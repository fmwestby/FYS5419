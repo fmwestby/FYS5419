{
 "cells": [
  {
   "cell_type": "code",
   "execution_count": 1,
   "metadata": {},
   "outputs": [],
   "source": [
    "import numpy as np\n",
    "import matplotlib.pyplot as plt\n",
    "import seaborn as sns\n",
    "sns.set_theme(font_scale=1.5)\n",
    "from qiskit import QuantumCircuit, execute, Aer, QuantumRegister, ClassicalRegister\n",
    "from qiskit.visualization import plot_histogram"
   ]
  },
  {
   "attachments": {},
   "cell_type": "markdown",
   "metadata": {},
   "source": [
    "# Quantum Gates on basis states"
   ]
  },
  {
   "attachments": {},
   "cell_type": "markdown",
   "metadata": {},
   "source": [
    "This file will use different gates on the baseis states:\n",
    "\n",
    "$$\n",
    "\\vert 0 \\rangle = \\begin{bmatrix} 1 \\\\ 0 \\end{bmatrix},\n",
    "$$\n",
    "\n",
    "and\n",
    "\n",
    "$$\n",
    "\\vert 1 \\rangle = \\begin{bmatrix} 0 \\\\ 1 \\end{bmatrix}.\n",
    "$$\n",
    "\n",
    "This is how we will define the basis states in python:"
   ]
  },
  {
   "cell_type": "code",
   "execution_count": 2,
   "metadata": {},
   "outputs": [],
   "source": [
    "# Define the basis states\n",
    "ZERO_STATE = np.array([[1], [0]])\n",
    "ONE_STATE = np.array([[0], [1]])"
   ]
  },
  {
   "attachments": {},
   "cell_type": "markdown",
   "metadata": {},
   "source": [
    "## Pauli Matrices\n",
    "\n",
    "In quantum computing, the Pauli matrices (also known as Pauli spin matrices) are a set of three 2x2 matrices that are fundamental in quantum mechanics. They are:\n",
    "\n",
    "- Pauli-X matrix ($\\sigma_x$): $$\\sigma_x = \\begin{bmatrix} 0 & 1 \\\\ 1 & 0 \\end{bmatrix}$$\n",
    "- Pauli-Y matrix ($\\sigma_y$): $$\\sigma_y = \\begin{bmatrix} 0 & -\\imath \\\\ \\imath & 0 \\end{bmatrix}$$\n",
    "- Pauli-Z matrix ($\\sigma_z$): $$\\sigma_z = \\begin{bmatrix} 1 & 0 \\\\ 0 & -1 \\end{bmatrix}$$\n",
    "\n",
    "Here is how we define a Python function using numpy to set up a one-qubit basis and apply the Pauli matrices to these basis states:"
   ]
  },
  {
   "cell_type": "code",
   "execution_count": 3,
   "metadata": {},
   "outputs": [],
   "source": [
    "def apply_pauli_matrices():\n",
    "    # Define the Pauli Matrices\n",
    "    sigma_x = np.array([[0, 1], [1, 0]])\n",
    "    sigma_y = np.array([[0, -1j], [1j, 0]])\n",
    "    sigma_z = np.array([[1, 0], [0, -1]])\n",
    "\n",
    "    # Apply the Pauli Matrices to the basis states\n",
    "    zero_state_x = np.dot(sigma_x, ZERO_STATE)\n",
    "    one_state_x = np.dot(sigma_x, ONE_STATE)\n",
    "\n",
    "    zero_state_y = np.dot(sigma_y, ZERO_STATE)\n",
    "    one_state_y = np.dot(sigma_y, ONE_STATE)\n",
    "\n",
    "    zero_state_z = np.dot(sigma_z, ZERO_STATE)\n",
    "    one_state_z = np.dot(sigma_z, ONE_STATE)\n",
    "\n",
    "    # Print the resulting states\n",
    "    print(\"Sigma-x applied to |0>:\\n\", zero_state_x)\n",
    "    print(\"\\n\")\n",
    "    print(\"Sigma-x applied to |1>:\\n\", one_state_x)\n",
    "    print(\"\\n\")\n",
    "    print(\"Sigma-y applied to |0>:\\n\", zero_state_y)\n",
    "    print(\"\\n\")\n",
    "    print(\"Sigma-y applied to |1>:\\n\", one_state_y)\n",
    "    print(\"\\n\")\n",
    "    print(\"Sigma-z applied to |0>:\\n\", zero_state_z)\n",
    "    print(\"\\n\")\n",
    "    print(\"Sigma-z applied to |1>:\\n\", one_state_z)"
   ]
  },
  {
   "cell_type": "code",
   "execution_count": 4,
   "metadata": {},
   "outputs": [
    {
     "name": "stdout",
     "output_type": "stream",
     "text": [
      "Sigma-x applied to |0>:\n",
      " [[0]\n",
      " [1]]\n",
      "\n",
      "\n",
      "Sigma-x applied to |1>:\n",
      " [[1]\n",
      " [0]]\n",
      "\n",
      "\n",
      "Sigma-y applied to |0>:\n",
      " [[0.+0.j]\n",
      " [0.+1.j]]\n",
      "\n",
      "\n",
      "Sigma-y applied to |1>:\n",
      " [[0.-1.j]\n",
      " [0.+0.j]]\n",
      "\n",
      "\n",
      "Sigma-z applied to |0>:\n",
      " [[1]\n",
      " [0]]\n",
      "\n",
      "\n",
      "Sigma-z applied to |1>:\n",
      " [[ 0]\n",
      " [-1]]\n"
     ]
    }
   ],
   "source": [
    "# Call the function\n",
    "apply_pauli_matrices()"
   ]
  },
  {
   "attachments": {},
   "cell_type": "markdown",
   "metadata": {},
   "source": [
    "This function first sets up the Pauli matrices and the basis states. Then it applies the Pauli matrices to the basis states using the `np.dot()` function from numpy, which performs matrix multiplication. The results are then printed."
   ]
  },
  {
   "attachments": {},
   "cell_type": "markdown",
   "metadata": {},
   "source": [
    "## Hadamard and Phase gates\n",
    "\n",
    "The Hadamard gate and Phase gate (also known as S gate) are fundamental gates in quantum computing. They act on single qubits and their matrix representations are:\n",
    "\n",
    "- Hadamard ($\\boldsymbol{H}$): \n",
    "    $$\n",
    "    \\boldsymbol{H}=\\frac{1}{\\sqrt{2}}\\begin{bmatrix} 1 & 1 \\\\ 1 & -1\\end{bmatrix}\n",
    "    $$\n",
    "- Phase ($\\boldsymbol{S}$): \n",
    "    $$\n",
    "    \\boldsymbol{S} = \\begin{bmatrix} 1 & 0 \\\\ 0 & \\imath\\end{bmatrix}\n",
    "    $$\n",
    "\n",
    "The Hadamard and Phase can be defined in Python as:"
   ]
  },
  {
   "cell_type": "code",
   "execution_count": 5,
   "metadata": {},
   "outputs": [],
   "source": [
    "# Define the Hadamard gates\n",
    "HADAMARD = 1/np.sqrt(2) * np.array([[1, 1], [1, -1]])\n",
    "\n",
    "# Define the Phase gates\n",
    "PHASE = np.array([[1, 0], [0, 1j]])"
   ]
  },
  {
   "attachments": {},
   "cell_type": "markdown",
   "metadata": {},
   "source": [
    "Here is how we can define a Python function using numpy to apply these gates to the one-qubit basis states:"
   ]
  },
  {
   "cell_type": "code",
   "execution_count": 6,
   "metadata": {},
   "outputs": [],
   "source": [
    "def apply_hadamard():\n",
    "\n",
    "    # Apply the Hadamard gates to the basis states\n",
    "    zero_state_h = np.dot(HADAMARD, ZERO_STATE)\n",
    "    one_state_h = np.dot(HADAMARD, ONE_STATE)\n",
    "\n",
    "    # Print the resulting states\n",
    "    print(\"Hadamard applied to |0>:\\n\", zero_state_h)\n",
    "    print(\"\\n\")\n",
    "    print(\"Hadamard applied to |1>:\\n\", one_state_h)"
   ]
  },
  {
   "cell_type": "code",
   "execution_count": 7,
   "metadata": {},
   "outputs": [],
   "source": [
    "def apply_phase():\n",
    "\n",
    "    # Apply the Phase gates to the basis states\n",
    "    zero_state_s = np.dot(PHASE, ZERO_STATE)\n",
    "    one_state_s = np.dot(PHASE, ONE_STATE)\n",
    "\n",
    "    # Print the resulting states\n",
    "    print(\"Phase applied to |0>:\\n\", zero_state_s)\n",
    "    print(\"\\n\")\n",
    "    print(\"Phase applied to |1>:\\n\", one_state_s)"
   ]
  },
  {
   "cell_type": "code",
   "execution_count": 8,
   "metadata": {},
   "outputs": [
    {
     "name": "stdout",
     "output_type": "stream",
     "text": [
      "Hadamard applied to |0>:\n",
      " [[0.70710678]\n",
      " [0.70710678]]\n",
      "\n",
      "\n",
      "Hadamard applied to |1>:\n",
      " [[ 0.70710678]\n",
      " [-0.70710678]]\n",
      "\n",
      "\n",
      "Phase applied to |0>:\n",
      " [[1.+0.j]\n",
      " [0.+0.j]]\n",
      "\n",
      "\n",
      "Phase applied to |1>:\n",
      " [[0.+0.j]\n",
      " [0.+1.j]]\n"
     ]
    }
   ],
   "source": [
    "# Call the function\n",
    "apply_hadamard()\n",
    "print(\"\\n\")\n",
    "apply_phase()"
   ]
  },
  {
   "attachments": {},
   "cell_type": "markdown",
   "metadata": {},
   "source": [
    "## CNOT gate\n",
    "\n",
    "The CNOT (or controlled NOT) gate is given by\n",
    "\n",
    "$$\n",
    "\\begin{equation}\n",
    "\\text{CNOT}\n",
    "=\\begin{pmatrix}\n",
    "1 & 0 & 0 & 0 \\\\\n",
    "0 & 1 & 0 & 0 \\\\\n",
    "0 & 0 & 0 & 1 \\\\\n",
    "0 & 0 & 1 & 0\n",
    "\\end{pmatrix}\n",
    "\\end{equation}\n",
    "$$\n",
    "\n",
    "We can define the gate in Python like this:"
   ]
  },
  {
   "cell_type": "code",
   "execution_count": 9,
   "metadata": {},
   "outputs": [],
   "source": [
    "# Define the CNOT gate\n",
    "CNOT = np.array([[1, 0, 0, 0], [0, 1, 0, 0], [0, 0, 0, 1], [0, 0, 1, 0]])"
   ]
  },
  {
   "attachments": {},
   "cell_type": "markdown",
   "metadata": {},
   "source": [
    "## Bell states\n",
    "\n",
    "The Bell states are specific quantum states of two qubits that represent the simplest (and maximal) examples of quantum entanglement. The Bell states are:\n",
    "\n",
    "$$\n",
    "\\vert \\Phi^+\\rangle = \\frac{1}{\\sqrt{2}}\\left[\\vert 00\\rangle +\\vert 11\\rangle\\right]=\\frac{1}{\\sqrt{2}}\\begin{bmatrix} 1 \\\\ 0 \\\\ 0 \\\\ 1\\end{bmatrix},\n",
    "$$\n",
    "\n",
    "$$\n",
    "\\vert \\Phi^-\\rangle = \\frac{1}{\\sqrt{2}}\\left[\\vert 00\\rangle -\\vert 11\\rangle\\right]=\\frac{1}{\\sqrt{2}}\\begin{bmatrix} 1 \\\\ 0 \\\\ 0 \\\\ -1\\end{bmatrix},\n",
    "$$\n",
    "\n",
    "$$\n",
    "\\vert \\Psi^+\\rangle = \\frac{1}{\\sqrt{2}}\\left[\\vert 10\\rangle +\\vert 01\\rangle\\right]=\\frac{1}{\\sqrt{2}}\\begin{bmatrix} 0 \\\\ 1 \\\\ 1 \\\\ 0\\end{bmatrix},\n",
    "$$\n",
    "\n",
    "and\n",
    "\n",
    "$$\n",
    "\\vert \\Psi^-\\rangle = \\frac{1}{\\sqrt{2}}\\left[\\vert 10\\rangle -\\vert 01\\rangle\\right]=\\frac{1}{\\sqrt{2}}\\begin{bmatrix} 0 \\\\ 1 \\\\ -1 \\\\ 0\\end{bmatrix}.\n",
    "$$\n",
    "\n",
    "Here there are drawn as a quantum cicuit:"
   ]
  },
  {
   "cell_type": "code",
   "execution_count": 10,
   "metadata": {},
   "outputs": [],
   "source": [
    "q = QuantumRegister(2,'q')\n",
    "c = ClassicalRegister(2,'c')\n",
    "\n",
    "\n",
    "def firstBellState():\n",
    "    circuit = QuantumCircuit(q,c)\n",
    "\n",
    "    circuit.h(q[0]) # Hadamard gate \n",
    "    circuit.cx(q[0],q[1]) # CNOT gate\n",
    "\n",
    "    return circuit.draw(output='mpl')\n",
    "\n",
    "def secondBellState():\n",
    "    circuit = QuantumCircuit(q,c)\n",
    "\n",
    "    circuit.x(q[0]) # Pauli-X gate \n",
    "    circuit.h(q[0]) # Hadamard gate \n",
    "    circuit.cx(q[0],q[1]) # CNOT gate\n",
    "\n",
    "    return circuit.draw(output='mpl')\n",
    "\n",
    "def thirdBellState():\n",
    "    circuit = QuantumCircuit(q,c)\n",
    "\n",
    "    circuit.x(q[1]) # Pauli-X gate \n",
    "    circuit.h(q[0]) # Hadamard gate \n",
    "    circuit.cx(q[0],q[1]) # CNOT gate\n",
    "\n",
    "    return circuit.draw(output='mpl')\n",
    "\n",
    "def fourthBellState():\n",
    "    circuit = QuantumCircuit(q,c)\n",
    "\n",
    "    circuit.x(q[1]) # Pauli-X gate \n",
    "    circuit.h(q[0]) # Hadamard gate\n",
    "    circuit.z(q[0]) # Pauli-Z gate\n",
    "    circuit.z(q[1]) # Pauli-Z  gate \n",
    "    circuit.cx(q[0],q[1]) # CNOT gate\n",
    "\n",
    "    return circuit.draw(output='mpl')"
   ]
  },
  {
   "cell_type": "code",
   "execution_count": 11,
   "metadata": {},
   "outputs": [
    {
     "name": "stdout",
     "output_type": "stream",
     "text": [
      "Creating first Bell State:\n",
      "\n"
     ]
    },
    {
     "data": {
      "image/png": "[encoded data removed]",
      "text/plain": [
       "<Figure size 287.294x284.278 with 1 Axes>"
      ]
     },
     "execution_count": 11,
     "metadata": {},
     "output_type": "execute_result"
    }
   ],
   "source": [
    "print(\"Creating first Bell State:\\n\")\n",
    "firstBellState()"
   ]
  },
  {
   "cell_type": "code",
   "execution_count": 12,
   "metadata": {},
   "outputs": [
    {
     "name": "stdout",
     "output_type": "stream",
     "text": [
      "\n",
      "Creating second Bell State:\n",
      "\n"
     ]
    },
    {
     "data": {
      "image/png": "[encoded data removed]",
      "text/plain": [
       "<Figure size 370.906x284.278 with 1 Axes>"
      ]
     },
     "execution_count": 12,
     "metadata": {},
     "output_type": "execute_result"
    }
   ],
   "source": [
    "print(\"\\nCreating second Bell State:\\n\")\n",
    "secondBellState()"
   ]
  },
  {
   "cell_type": "code",
   "execution_count": 13,
   "metadata": {},
   "outputs": [
    {
     "name": "stdout",
     "output_type": "stream",
     "text": [
      "\n",
      "Creating third Bell State:\n",
      "\n"
     ]
    },
    {
     "data": {
      "image/png": "[encoded data removed]",
      "text/plain": [
       "<Figure size 287.294x284.278 with 1 Axes>"
      ]
     },
     "execution_count": 13,
     "metadata": {},
     "output_type": "execute_result"
    }
   ],
   "source": [
    "print(\"\\nCreating third Bell State:\\n\")\n",
    "thirdBellState()"
   ]
  },
  {
   "cell_type": "code",
   "execution_count": 14,
   "metadata": {},
   "outputs": [
    {
     "name": "stdout",
     "output_type": "stream",
     "text": [
      "\n",
      "Creating fourth Bell State:\n",
      "\n"
     ]
    },
    {
     "data": {
      "image/png": "[encoded data removed]",
      "text/plain": [
       "<Figure size 370.906x284.278 with 1 Axes>"
      ]
     },
     "execution_count": 14,
     "metadata": {},
     "output_type": "execute_result"
    }
   ],
   "source": [
    "print(\"\\nCreating fourth Bell State:\\n\")\n",
    "fourthBellState()"
   ]
  },
  {
   "cell_type": "code",
   "execution_count": 15,
   "metadata": {},
   "outputs": [],
   "source": [
    "PHI_PLUS = 1/np.sqrt(2) * np.array([[1], [0], [0], [1]])\n",
    "PHI_MINUS = 1/np.sqrt(2) * np.array([[1], [0], [0], [-1]])\n",
    "\n",
    "PSI_PLUS = 1/np.sqrt(2) * np.array([[0], [1], [1], [0]])\n",
    "PSI_MINUS = 1/np.sqrt(2) * np.array([[0], [1], [-1], [0]])"
   ]
  },
  {
   "attachments": {},
   "cell_type": "markdown",
   "metadata": {},
   "source": [
    "Here is how we can define a Python function using numpy to apply a Hadamard gate and thereafter a CNOT gate on Bell state $\\vert \\Phi^+\\rangle$:"
   ]
  },
  {
   "cell_type": "code",
   "execution_count": 16,
   "metadata": {},
   "outputs": [],
   "source": [
    "def apply_hadamard_and_cnot():\n",
    "    \n",
    "    # Apply the Hadamard gate to the first qubit of |Φ+>\n",
    "    phi_plus_h = np.kron(np.dot(HADAMARD, PHI_PLUS[:2]), PHI_PLUS[2:])\n",
    "\n",
    "    # Apply the CNOT gate to the result\n",
    "    final_state = np.dot(CNOT, phi_plus_h)\n",
    "\n",
    "    # return the resulting state\n",
    "    return final_state"
   ]
  },
  {
   "cell_type": "code",
   "execution_count": 17,
   "metadata": {},
   "outputs": [
    {
     "name": "stdout",
     "output_type": "stream",
     "text": [
      "Final state:\n",
      " [[0.        ]\n",
      " [0.35355339]\n",
      " [0.35355339]\n",
      " [0.        ]]\n"
     ]
    }
   ],
   "source": [
    "# Call the function\n",
    "print(\"Final state:\\n\", apply_hadamard_and_cnot())"
   ]
  },
  {
   "attachments": {},
   "cell_type": "markdown",
   "metadata": {},
   "source": [
    "This function first sets up the Hadamard and CNOT gates, and the Bell state $\\vert \\Phi^+\\rangle$. Then it applies the Hadamard gate to the first qubit of $\\vert \\Phi^+\\rangle$ using `np.dot()` for the matrix multiplication and `np.kron()` for the Kronecker (tensor) product. The CNOT gate is then applied to the result. The final state is printed."
   ]
  },
  {
   "attachments": {},
   "cell_type": "markdown",
   "metadata": {},
   "source": [
    "## Qubit measurements\n",
    "\n",
    "Measurement in quantum computing refers to the process of obtaining classical information (such as 0 or 1) from a qubit. When a measurement is made on a qubit, it collapses to one of its basis states. In this case, since we're working with a 2-qubit system, the measurements are made on the computational basis states: |00>, |01>, |10>, |11>.\n",
    "\n",
    "In the code below, we simulate measurements by using the probabilities given by the square magnitudes of the coefficients in front of the basis states. We do the simulation using numpy's random choice function which allows us to choose a state based on its probability. We then count the number of times each state is chosen over many trials to get the measurement probabilities."
   ]
  },
  {
   "cell_type": "code",
   "execution_count": 18,
   "metadata": {},
   "outputs": [],
   "source": [
    "# Define gates\n",
    "Hadamard = (1/np.sqrt(2)) * np.array([[1, 1], [1, -1]])\n",
    "CNOT = np.array([[1, 0, 0, 0], [0, 1, 0, 0], [0, 0, 0, 1], [0, 0, 1, 0]])"
   ]
  },
  {
   "cell_type": "code",
   "execution_count": 19,
   "metadata": {},
   "outputs": [],
   "source": [
    "# Prepare initial state\n",
    "initial_state = np.array([1, 0, 0, 0])\n",
    "\n",
    "# Apply Hadamard to first qubit\n",
    "state_after_Hadamard = np.kron(Hadamard, np.eye(2)).dot(initial_state)\n",
    "\n",
    "# Apply CNOT\n",
    "state_after_CNOT = CNOT.dot(state_after_Hadamard)\n",
    "\n",
    "# Apply Hadamard to first qubit again\n",
    "state_after_second_Hadamard = np.kron(Hadamard, np.eye(2)).dot(state_after_CNOT)\n",
    "\n",
    "# Apply second CNOT\n",
    "final_state = CNOT.dot(state_after_second_Hadamard)"
   ]
  },
  {
   "cell_type": "code",
   "execution_count": 20,
   "metadata": {},
   "outputs": [],
   "source": [
    "# Perform \"measurement\" by squaring amplitudes\n",
    "probabilities = np.abs(final_state)**2\n",
    "\n",
    "# Simulate 1000 shots\n",
    "shots = 1000\n",
    "measurements = np.random.choice([0, 1, 2, 3], size=shots, p=probabilities)"
   ]
  },
  {
   "cell_type": "code",
   "execution_count": 21,
   "metadata": {},
   "outputs": [
    {
     "data": {
      "image/png": "[encoded data removed]",
      "text/plain": [
       "<Figure size 640x480 with 1 Axes>"
      ]
     },
     "metadata": {},
     "output_type": "display_data"
    }
   ],
   "source": [
    "# Plot histogram\n",
    "plt.hist(measurements, bins=4, range=[-0.5,3.5], align='mid', rwidth=0.8)\n",
    "plt.xticks([0, 1, 2, 3], labels=['|00>', '|01>', '|10>', '|11>'])\n",
    "plt.title('Bell-State counts with NumPy')\n",
    "plt.ylabel(\"Counts\")\n",
    "plt.show()"
   ]
  },
  {
   "attachments": {},
   "cell_type": "markdown",
   "metadata": {},
   "source": [
    "In this code, we add a `measure_state` function which simulates the measurement of a 2-qubit state over a given number of trials. The `measure_state` function is then used in the `apply_hadamard_and_cnot` function to measure the final state after the Hadamard and CNOT gates have been applied. The average results of these measurements are then printed to the console."
   ]
  },
  {
   "attachments": {},
   "cell_type": "markdown",
   "metadata": {},
   "source": [
    "## Comparing with Qiskit\n",
    "\n",
    "Qiskit is a comprehensive open-source quantum computing library developed by IBM. Here I have recreated the code from above using Qiskit.\n",
    "\n",
    "*Note: To create the Bell states with qiskit, I have used this guide: https://quantumcomputinguk.org/tutorials/introduction-to-bell-states*"
   ]
  },
  {
   "cell_type": "code",
   "execution_count": 22,
   "metadata": {},
   "outputs": [],
   "source": [
    "# Define the quantum circuit\n",
    "qc = QuantumCircuit(2, 2)"
   ]
  },
  {
   "cell_type": "code",
   "execution_count": 23,
   "metadata": {},
   "outputs": [
    {
     "data": {
      "image/png": "[encoded data removed]",
      "text/plain": [
       "<Figure size 287.294x284.278 with 1 Axes>"
      ]
     },
     "execution_count": 23,
     "metadata": {},
     "output_type": "execute_result"
    }
   ],
   "source": [
    "# Create the Bell state |Φ+> using a Hadamard gate and a CNOT gate\n",
    "qc.h(0)\n",
    "qc.cx(0, 1)\n",
    "qc.draw(output='mpl')"
   ]
  },
  {
   "cell_type": "code",
   "execution_count": 24,
   "metadata": {},
   "outputs": [
    {
     "data": {
      "image/png": "[encoded data removed]",
      "text/plain": [
       "<Figure size 454.517x284.278 with 1 Axes>"
      ]
     },
     "execution_count": 24,
     "metadata": {},
     "output_type": "execute_result"
    }
   ],
   "source": [
    "# Apply the Hadamard gate\n",
    "qc.h(0)\n",
    "\n",
    "# Apply the CNOT gate\n",
    "qc.cx(0, 1)\n",
    "qc.draw(output='mpl')"
   ]
  },
  {
   "cell_type": "code",
   "execution_count": 25,
   "metadata": {},
   "outputs": [
    {
     "data": {
      "image/png": "[encoded data removed]",
      "text/plain": [
       "<Figure size 621.739x284.278 with 1 Axes>"
      ]
     },
     "execution_count": 25,
     "metadata": {},
     "output_type": "execute_result"
    }
   ],
   "source": [
    "# Perform measurements on both qubits\n",
    "qc.measure([0, 1], [0, 1])\n",
    "qc.draw(output='mpl')"
   ]
  },
  {
   "cell_type": "code",
   "execution_count": 26,
   "metadata": {},
   "outputs": [],
   "source": [
    "# Execute the circuit\n",
    "simulator = Aer.get_backend('qasm_simulator')\n",
    "job = execute(qc, simulator, shots=1000)\n",
    "result = job.result()"
   ]
  },
  {
   "cell_type": "code",
   "execution_count": 27,
   "metadata": {},
   "outputs": [
    {
     "name": "stdout",
     "output_type": "stream",
     "text": [
      "{'11': 261, '10': 240, '00': 237, '01': 262}\n"
     ]
    }
   ],
   "source": [
    "# Get the measurement results\n",
    "counts = result.get_counts(qc)\n",
    "\n",
    "# Print the measurement results\n",
    "print(counts)"
   ]
  },
  {
   "cell_type": "code",
   "execution_count": 28,
   "metadata": {},
   "outputs": [
    {
     "data": {
      "image/png": "[encoded data removed]",
      "text/plain": [
       "<Figure size 621.739x284.278 with 1 Axes>"
      ]
     },
     "execution_count": 28,
     "metadata": {},
     "output_type": "execute_result"
    }
   ],
   "source": [
    "# Draw the circuit\n",
    "qc.draw(output='mpl')"
   ]
  },
  {
   "cell_type": "code",
   "execution_count": 29,
   "metadata": {},
   "outputs": [
    {
     "data": {
      "image/png": "[encoded data removed]",
      "text/plain": [
       "<Figure size 700x500 with 1 Axes>"
      ]
     },
     "execution_count": 29,
     "metadata": {},
     "output_type": "execute_result"
    }
   ],
   "source": [
    "# Plot the measurement results\n",
    "plot_histogram(counts, title='Bell-State counts with Qiskit')"
   ]
  },
  {
   "cell_type": "code",
   "execution_count": null,
   "metadata": {},
   "outputs": [],
   "source": []
  }
 ],
 "metadata": {
  "kernelspec": {
   "display_name": "base",
   "language": "python",
   "name": "python3"
  },
  "language_info": {
   "codemirror_mode": {
    "name": "ipython",
    "version": 3
   },
   "file_extension": ".py",
   "mimetype": "text/x-python",
   "name": "python",
   "nbconvert_exporter": "python",
   "pygments_lexer": "ipython3",
   "version": "3.10.10"
  },
  "orig_nbformat": 4
 },
 "nbformat": 4,
 "nbformat_minor": 2
}
